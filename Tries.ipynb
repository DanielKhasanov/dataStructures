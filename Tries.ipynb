{
 "cells": [
  {
   "cell_type": "code",
   "execution_count": 2,
   "metadata": {},
   "outputs": [
    {
     "data": {
      "text/plain": [
       "['caturday', 'caturday2']"
      ]
     },
     "execution_count": 2,
     "metadata": {},
     "output_type": "execute_result"
    }
   ],
   "source": [
    "class TrieNode:\n",
    "    def __init__(self):\n",
    "        self.word = None\n",
    "        self.children = {}\n",
    "        \n",
    "    def addWord(self, word, index=0):\n",
    "        if index == len(word):\n",
    "            self.word = word\n",
    "        elif word[index] in self.children:\n",
    "            childNode = self.children[word[index]]\n",
    "            childNode.addWord(word, index + 1)\n",
    "        else:\n",
    "            newNode = TrieNode()\n",
    "            self.children[word[index]] = newNode\n",
    "            newNode.addWord(word, index + 1)\n",
    "    \n",
    "    def isWord(self, word, index=0):\n",
    "        if index == len(word):\n",
    "            return self.word == word\n",
    "        elif word[index] in self.children:\n",
    "            childNode = self.children[word[index]]\n",
    "            return childNode.isWord(word, index + 1)\n",
    "        else:\n",
    "            return False\n",
    "    \n",
    "    def getNode(self, prefix, index=0):\n",
    "        if index == len(prefix):\n",
    "            return self\n",
    "        elif prefix[index] in self.children:\n",
    "            childNode = self.children[prefix[index]]\n",
    "            return childNode.getNode(prefix, index + 1)\n",
    "        else:\n",
    "            return None\n",
    "        \n",
    "    def getAllWords(self):\n",
    "        words = []\n",
    "        if self.word is not None:\n",
    "            words.append(self.word)\n",
    "            \n",
    "        for childNode in self.children.values():\n",
    "            words.extend(childNode.getAllWords())\n",
    "        return words\n",
    "        \n",
    "    def allWords(self, prefix, index=0):\n",
    "        prefixNode = self.getNode(prefix,index=index)\n",
    "        if prefixNode is None:\n",
    "            return []\n",
    "        else:\n",
    "            return prefixNode.getAllWords()     \n",
    "\n",
    "trieRoot = TrieNode()\n",
    "trieRoot.addWord(\"cat\")\n",
    "trieRoot.addWord(\"catheter\")\n",
    "trieRoot.addWord(\"catniss\")\n",
    "trieRoot.addWord(\"caturday\")\n",
    "trieRoot.addWord(\"caturday2\")\n",
    "trieRoot.addWord(\"john\")\n",
    "\n",
    "trieRoot.allWords(\"catu\")\n",
    "# trieRoot.allWords(\"c\")"
   ]
  },
  {
   "cell_type": "code",
   "execution_count": null,
   "metadata": {
    "collapsed": true
   },
   "outputs": [],
   "source": []
  }
 ],
 "metadata": {
  "kernelspec": {
   "display_name": "Python 3",
   "language": "python",
   "name": "python3"
  },
  "language_info": {
   "codemirror_mode": {
    "name": "ipython",
    "version": 3
   },
   "file_extension": ".py",
   "mimetype": "text/x-python",
   "name": "python",
   "nbconvert_exporter": "python",
   "pygments_lexer": "ipython3",
   "version": "3.6.2"
  }
 },
 "nbformat": 4,
 "nbformat_minor": 2
}
